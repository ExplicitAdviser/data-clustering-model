{
 "cells": [
  {
   "cell_type": "markdown",
   "id": "3cf3e34d",
   "metadata": {},
   "source": [
    "### Разбив пространство на различные частотные кластеры, возможно осуществлять классификацию новых треков, и затем тестировать элементы массива относительно каждого из них.\n",
    "### Используем кластеризацию, чтобы сгруппировать треки, которые ведут себя одинаково. Кластеризация предваряет классификацию новых треков.\n",
    "### Применяется техника обучения без учителя, поскольку отсутствуют признаки для обучения модели. Для расширения данных, необходимых для обучения, возможно использование генератора данных.\n",
    "### В качестве метки класса можно принять номер кластера.\n",
    "### Треки могут быть коллинеарными. Предусматриваем алгоритм установления их коллинеарности.\n",
    "### Исследуем и нормализуем данные.Примем допущение, что любая точка данных, которая лежит ниже определенной нижней границы, и над верхней границей рассматривается как выброс. Удаляем выбросы в данных.\n",
    "### Для кластеризации треков используем модель K-Means. Модель классифицирует новые треки по меткам кластеров."
   ]
  },
  {
   "cell_type": "code",
   "execution_count": 1,
   "id": "0eb184c2",
   "metadata": {
    "executionInfo": {
     "elapsed": 542,
     "status": "ok",
     "timestamp": 1645103385043,
     "user": {
      "displayName": "Implicit Adviser",
      "photoUrl": "https://lh3.googleusercontent.com/a/default-user=s64",
      "userId": "07195263277261417486"
     },
     "user_tz": -240
    },
    "id": "0eb184c2"
   },
   "outputs": [],
   "source": [
    "# Импорт библиотек\n",
    "import math\n",
    "import h5py\n",
    "import numpy as np\n",
    "import pandas as pd\n",
    "import sys\n",
    "import os\n",
    "import matplotlib\n",
    "import matplotlib.pyplot as plt\n",
    "plt.style.use('fivethirtyeight')\n",
    "%matplotlib inline\n",
    "from sklearn.model_selection import train_test_split\n",
    "from sklearn.preprocessing import MinMaxScaler\n",
    "from sklearn.preprocessing import StandardScaler\n",
    "from sklearn.preprocessing import Normalizer\n",
    "from sklearn.cluster import KMeans\n",
    "from matplotlib.collections import LineCollection\n",
    "from sklearn import cluster, covariance, manifold"
   ]
  },
  {
   "cell_type": "code",
   "execution_count": 2,
   "id": "BYdNBfFWJ3LB",
   "metadata": {
    "colab": {
     "base_uri": "https://localhost:8080/"
    },
    "executionInfo": {
     "elapsed": 20698,
     "status": "ok",
     "timestamp": 1645103368207,
     "user": {
      "displayName": "Implicit Adviser",
      "photoUrl": "https://lh3.googleusercontent.com/a/default-user=s64",
      "userId": "07195263277261417486"
     },
     "user_tz": -240
    },
    "id": "BYdNBfFWJ3LB",
    "outputId": "37cba627-8983-4135-f112-418ca80165d7",
    "scrolled": true
   },
   "outputs": [],
   "source": [
    "# from google.colab import drive\n",
    "# drive.mount('/content/drive')"
   ]
  },
  {
   "cell_type": "code",
   "execution_count": 3,
   "id": "8f350842",
   "metadata": {
    "colab": {
     "base_uri": "https://localhost:8080/"
    },
    "executionInfo": {
     "elapsed": 17607,
     "status": "ok",
     "timestamp": 1645103408106,
     "user": {
      "displayName": "Implicit Adviser",
      "photoUrl": "https://lh3.googleusercontent.com/a/default-user=s64",
      "userId": "07195263277261417486"
     },
     "user_tz": -240
    },
    "id": "8f350842",
    "outputId": "0f590770-31ac-494f-ea75-7c2c4f5bd4f6"
   },
   "outputs": [
    {
     "name": "stdout",
     "output_type": "stream",
     "text": [
      "list of statistics in this file: \n",
      " ['statistics']\n",
      "Shape of tracks: \n",
      " (2278, 2386, 96)\n"
     ]
    }
   ],
   "source": [
    "# read HDF5 files\n",
    "with h5py.File('./data_tracks.hdf5', 'r') as hdf:\n",
    "    lst = list(hdf.keys())\n",
    "    print('list of statistics in this file: \\n', lst)\n",
    "    data = hdf.get('statistics')\n",
    "    tracks = np.array(data)\n",
    "    print('Shape of tracks: \\n', tracks.shape)"
   ]
  },
  {
   "cell_type": "markdown",
   "id": "bf594bd4",
   "metadata": {},
   "source": [
    "### Исследование данных"
   ]
  },
  {
   "cell_type": "code",
   "execution_count": 4,
   "id": "c17267fb",
   "metadata": {
    "colab": {
     "base_uri": "https://localhost:8080/"
    },
    "executionInfo": {
     "elapsed": 360,
     "status": "ok",
     "timestamp": 1645103415372,
     "user": {
      "displayName": "Implicit Adviser",
      "photoUrl": "https://lh3.googleusercontent.com/a/default-user=s64",
      "userId": "07195263277261417486"
     },
     "user_tz": -240
    },
    "id": "c17267fb",
    "outputId": "f06fc804-daac-4bde-8027-661305cf3cf9"
   },
   "outputs": [
    {
     "data": {
      "text/plain": [
       "dtype('<f4')"
      ]
     },
     "execution_count": 4,
     "metadata": {},
     "output_type": "execute_result"
    }
   ],
   "source": [
    "# текущий тип элементов массива\n",
    "tracks.dtype"
   ]
  },
  {
   "cell_type": "code",
   "execution_count": 5,
   "id": "949440d0",
   "metadata": {
    "colab": {
     "base_uri": "https://localhost:8080/"
    },
    "executionInfo": {
     "elapsed": 496,
     "status": "ok",
     "timestamp": 1645103423628,
     "user": {
      "displayName": "Implicit Adviser",
      "photoUrl": "https://lh3.googleusercontent.com/a/default-user=s64",
      "userId": "07195263277261417486"
     },
     "user_tz": -240
    },
    "id": "949440d0",
    "outputId": "26047e02-3e8a-436d-ca15-86149c5929b6"
   },
   "outputs": [],
   "source": [
    "# количество осей массива\n",
    "# tracks.ndim"
   ]
  },
  {
   "cell_type": "code",
   "execution_count": 6,
   "id": "bd196a4f",
   "metadata": {},
   "outputs": [],
   "source": [
    "# количество элементов по каждой оси\n",
    "# tracks.shape"
   ]
  },
  {
   "cell_type": "code",
   "execution_count": 7,
   "id": "442a472f",
   "metadata": {
    "colab": {
     "base_uri": "https://localhost:8080/"
    },
    "executionInfo": {
     "elapsed": 509,
     "status": "ok",
     "timestamp": 1645103427857,
     "user": {
      "displayName": "Implicit Adviser",
      "photoUrl": "https://lh3.googleusercontent.com/a/default-user=s64",
      "userId": "07195263277261417486"
     },
     "user_tz": -240
    },
    "id": "442a472f",
    "outputId": "b1e95f75-ea33-48bd-cf87-3cfd6c3b1921"
   },
   "outputs": [],
   "source": [
    "# число элементов массива\n",
    "# tracks.size"
   ]
  },
  {
   "cell_type": "code",
   "execution_count": 8,
   "id": "d9c2c4a6",
   "metadata": {},
   "outputs": [],
   "source": [
    "# объем элемента массива в байтах\n",
    "# tracks.itemsize"
   ]
  },
  {
   "cell_type": "code",
   "execution_count": 9,
   "id": "fdd81b0f",
   "metadata": {},
   "outputs": [],
   "source": [
    "# изменение типа элементов массива\n",
    "tracks.dtype = np.float32()"
   ]
  },
  {
   "cell_type": "code",
   "execution_count": 10,
   "id": "47b87802",
   "metadata": {
    "scrolled": true
   },
   "outputs": [
    {
     "data": {
      "text/plain": [
       "dtype('float32')"
      ]
     },
     "execution_count": 10,
     "metadata": {},
     "output_type": "execute_result"
    }
   ],
   "source": [
    "tracks.dtype"
   ]
  },
  {
   "cell_type": "code",
   "execution_count": 11,
   "id": "0f9bc32f",
   "metadata": {},
   "outputs": [
    {
     "data": {
      "text/plain": [
       "521789568"
      ]
     },
     "execution_count": 11,
     "metadata": {},
     "output_type": "execute_result"
    }
   ],
   "source": [
    "# число элементов массива нового типа\n",
    "tracks.size"
   ]
  },
  {
   "cell_type": "code",
   "execution_count": 12,
   "id": "983b0e97",
   "metadata": {},
   "outputs": [],
   "source": [
    "# объем элемента нового типа в байтах\n",
    "# tracks.itemsize"
   ]
  },
  {
   "cell_type": "code",
   "execution_count": 13,
   "id": "a8f67e76",
   "metadata": {},
   "outputs": [],
   "source": [
    "# объем массива нового типа в байтах\n",
    "# tracks.size * tracks.itemsize"
   ]
  },
  {
   "cell_type": "code",
   "execution_count": 14,
   "id": "6c331685",
   "metadata": {},
   "outputs": [
    {
     "data": {
      "text/plain": [
       "460932.34"
      ]
     },
     "execution_count": 14,
     "metadata": {},
     "output_type": "execute_result"
    }
   ],
   "source": [
    "# максимальное значение массива\n",
    "tracks.max()"
   ]
  },
  {
   "cell_type": "code",
   "execution_count": 15,
   "id": "bb41a1b0",
   "metadata": {},
   "outputs": [
    {
     "name": "stdout",
     "output_type": "stream",
     "text": [
      "(1913, 365, 6)\n"
     ]
    }
   ],
   "source": [
    "# возвращает индекс максимального элемента в массиве\n",
    "ind = np.unravel_index(np.argmax(tracks), tracks.shape)\n",
    "print(ind)"
   ]
  },
  {
   "cell_type": "code",
   "execution_count": 16,
   "id": "528d483c",
   "metadata": {
    "scrolled": true
   },
   "outputs": [
    {
     "data": {
      "text/plain": [
       "460932.34"
      ]
     },
     "execution_count": 16,
     "metadata": {},
     "output_type": "execute_result"
    }
   ],
   "source": [
    "tracks[1913][365][6]"
   ]
  },
  {
   "cell_type": "code",
   "execution_count": 17,
   "id": "a4411c57",
   "metadata": {
    "scrolled": false
   },
   "outputs": [
    {
     "data": {
      "text/plain": [
       "<function matplotlib.pyplot.show(close=None, block=None)>"
      ]
     },
     "execution_count": 17,
     "metadata": {},
     "output_type": "execute_result"
    },
    {
     "data": {
      "image/png": "[encoded data removed]",
      "text/plain": [
       "<Figure size 1152x576 with 1 Axes>"
      ]
     },
     "metadata": {
      "needs_background": "light"
     },
     "output_type": "display_data"
    }
   ],
   "source": [
    "# график элемента массива в котором содержится максимальное значение\n",
    "plt.figure(figsize = (16,8))\n",
    "x = tracks[1913]\n",
    "plt.plot(x)\n",
    "plt.show"
   ]
  },
  {
   "cell_type": "code",
   "execution_count": 18,
   "id": "b5b53e7a",
   "metadata": {},
   "outputs": [],
   "source": [
    "# минимальное значение массива\n",
    "# tracks.min()"
   ]
  },
  {
   "cell_type": "code",
   "execution_count": 19,
   "id": "45828ce7",
   "metadata": {},
   "outputs": [
    {
     "data": {
      "text/plain": [
       "7.1596785"
      ]
     },
     "execution_count": 19,
     "metadata": {},
     "output_type": "execute_result"
    }
   ],
   "source": [
    "# среднее значение массива\n",
    "tracks.mean()"
   ]
  },
  {
   "cell_type": "code",
   "execution_count": 20,
   "id": "71c0cd90",
   "metadata": {},
   "outputs": [],
   "source": [
    "# сумма элементов массива\n",
    "# tracks.sum()"
   ]
  },
  {
   "cell_type": "code",
   "execution_count": 21,
   "id": "3fbd9f01",
   "metadata": {},
   "outputs": [
    {
     "data": {
      "text/plain": [
       "258.48553"
      ]
     },
     "execution_count": 21,
     "metadata": {},
     "output_type": "execute_result"
    }
   ],
   "source": [
    "# среднеквадратичное отклонение значений элементов массива\n",
    "tracks.std()"
   ]
  },
  {
   "cell_type": "code",
   "execution_count": 22,
   "id": "22f5b8e9",
   "metadata": {},
   "outputs": [
    {
     "data": {
      "text/plain": [
       "66814.77"
      ]
     },
     "execution_count": 22,
     "metadata": {},
     "output_type": "execute_result"
    }
   ],
   "source": [
    "# дисперсия\n",
    "tracks.var()"
   ]
  },
  {
   "cell_type": "code",
   "execution_count": 23,
   "id": "550cd3b7",
   "metadata": {},
   "outputs": [
    {
     "data": {
      "text/plain": [
       "2278"
      ]
     },
     "execution_count": 23,
     "metadata": {},
     "output_type": "execute_result"
    }
   ],
   "source": [
    "len(tracks.var(axis = 1))"
   ]
  },
  {
   "cell_type": "code",
   "execution_count": 24,
   "id": "c54b2a90",
   "metadata": {},
   "outputs": [
    {
     "data": {
      "text/plain": [
       "1.0087802"
      ]
     },
     "execution_count": 24,
     "metadata": {},
     "output_type": "execute_result"
    }
   ],
   "source": [
    "# медиана массива\n",
    "np.median(tracks)"
   ]
  },
  {
   "cell_type": "markdown",
   "id": "e8ed421c",
   "metadata": {},
   "source": [
    "### Представления массива"
   ]
  },
  {
   "cell_type": "code",
   "execution_count": 25,
   "id": "257c6b29",
   "metadata": {
    "colab": {
     "base_uri": "https://localhost:8080/"
    },
    "executionInfo": {
     "elapsed": 345,
     "status": "ok",
     "timestamp": 1645103431984,
     "user": {
      "displayName": "Implicit Adviser",
      "photoUrl": "https://lh3.googleusercontent.com/a/default-user=s64",
      "userId": "07195263277261417486"
     },
     "user_tz": -240
    },
    "id": "257c6b29",
    "outputId": "8ea00328-eebf-4ac0-abe8-aa5e99ab486d",
    "scrolled": false
   },
   "outputs": [
    {
     "data": {
      "text/plain": [
       "array([[[ 0.867584  ,  5.635525  ,  2.5787995 , ...,  0.8706721 ,\n",
       "          0.68589914,  0.8776981 ],\n",
       "        [ 1.4037471 , 19.115522  ,  5.16586   , ...,  0.9482794 ,\n",
       "          0.94062   ,  0.98139787],\n",
       "        [ 1.8050686 , 15.184977  ,  2.6675718 , ...,  0.7264305 ,\n",
       "          0.77372444,  1.059285  ],\n",
       "        ...,\n",
       "        [ 0.92421615,  0.37927502,  0.75392497, ...,  0.7326072 ,\n",
       "          0.78518754,  0.79141325],\n",
       "        [ 0.9424971 ,  0.37329528,  0.66355497, ...,  0.7485685 ,\n",
       "          0.6680854 ,  0.8393582 ],\n",
       "        [ 1.9094379 ,  1.1741309 ,  1.4443483 , ...,  1.1425848 ,\n",
       "          0.90442175,  1.19284   ]],\n",
       "\n",
       "       [[ 1.0074121 ,  4.709533  ,  3.1523523 , ...,  0.9205721 ,\n",
       "          0.93771636,  1.0677071 ],\n",
       "        [ 1.8801966 , 16.365469  , 10.674385  , ...,  0.99993265,\n",
       "          0.9004788 ,  0.7697731 ],\n",
       "        [ 1.7967896 , 13.110364  ,  7.3786254 , ...,  0.79055804,\n",
       "          1.042575  ,  1.024588  ],\n",
       "        ...,\n",
       "        [ 0.868971  ,  0.17583854,  0.09459264, ...,  0.8581481 ,\n",
       "          0.71572244,  0.9050096 ],\n",
       "        [ 0.89332104,  0.40044892,  0.44269252, ...,  0.8805954 ,\n",
       "          0.5871697 ,  0.6736464 ],\n",
       "        [ 1.4805585 ,  1.6973727 ,  1.0747051 , ...,  0.89768946,\n",
       "          0.8841685 ,  1.1832193 ]],\n",
       "\n",
       "       [[ 1.1821207 ,  1.4947723 ,  0.505793  , ...,  0.6683944 ,\n",
       "          0.81774974,  0.7134437 ],\n",
       "        [ 1.9955462 ,  6.3451495 ,  3.1092923 , ...,  0.7581557 ,\n",
       "          1.0029291 ,  0.68152946],\n",
       "        [ 1.6812173 ,  4.7694697 ,  3.1697948 , ...,  0.74214745,\n",
       "          1.010457  ,  0.74117965],\n",
       "        ...,\n",
       "        [ 0.676929  ,  0.82358503,  0.2966313 , ...,  0.6460687 ,\n",
       "          0.8005058 ,  0.8964593 ],\n",
       "        [ 1.161367  ,  2.3021584 ,  0.41922152, ...,  0.74105716,\n",
       "          0.7778452 ,  0.75782776],\n",
       "        [ 2.0434732 ,  4.167579  ,  1.4271439 , ...,  0.5805202 ,\n",
       "          0.8231596 ,  1.0222803 ]],\n",
       "\n",
       "       ...,\n",
       "\n",
       "       [[ 0.6980851 ,  0.06356735,  0.5764509 , ...,  0.68349016,\n",
       "          0.34000868,  0.39295036],\n",
       "        [ 1.1062487 ,  0.7060616 ,  1.3818567 , ...,  0.5699457 ,\n",
       "          0.42078972,  0.4714371 ],\n",
       "        [ 1.1642891 ,  0.7147992 ,  1.3263924 , ...,  0.7253963 ,\n",
       "          0.5729557 ,  0.47947112],\n",
       "        ...,\n",
       "        [ 1.7483877 ,  2.9585953 ,  0.90565485, ...,  0.6801316 ,\n",
       "          1.0830312 ,  1.1805892 ],\n",
       "        [ 1.8542745 ,  2.2614176 ,  1.6363819 , ...,  0.95697457,\n",
       "          1.0861593 ,  1.5895219 ],\n",
       "        [ 1.5120329 ,  1.5652815 ,  2.5320818 , ...,  1.5097088 ,\n",
       "          1.4840976 ,  2.0054634 ]],\n",
       "\n",
       "       [[ 1.4365718 ,  1.2166198 ,  0.87155306, ...,  0.61837614,\n",
       "          0.58578616,  0.6121446 ],\n",
       "        [ 1.608507  ,  2.3046546 ,  1.0990264 , ...,  0.49077246,\n",
       "          0.572247  ,  0.82705265],\n",
       "        [ 1.2195336 ,  1.7897701 ,  1.0699228 , ...,  0.72153074,\n",
       "          0.65237695,  0.8215214 ],\n",
       "        ...,\n",
       "        [ 3.8462842 ,  2.3282115 ,  2.4314852 , ...,  0.66965073,\n",
       "          0.8599962 ,  0.9813539 ],\n",
       "        [ 4.4053645 ,  2.7769074 ,  3.1892471 , ...,  1.1762472 ,\n",
       "          1.2900574 ,  1.3956293 ],\n",
       "        [ 3.580042  ,  2.2924237 ,  2.958014  , ...,  1.359802  ,\n",
       "          1.4714538 ,  2.0029075 ]],\n",
       "\n",
       "       [[ 1.1929106 ,  1.233477  ,  0.2665233 , ...,  0.7206367 ,\n",
       "          0.71340406,  0.75496596],\n",
       "        [ 1.5734053 ,  2.6251645 ,  0.4200851 , ...,  0.58890885,\n",
       "          0.6150957 ,  0.9123032 ],\n",
       "        [ 1.0686102 ,  2.0037835 ,  0.6660887 , ...,  0.6098497 ,\n",
       "          0.7054862 ,  0.95969665],\n",
       "        ...,\n",
       "        [ 8.277474  ,  9.192697  ,  3.82261   , ...,  0.6952238 ,\n",
       "          1.0069684 ,  0.9384058 ],\n",
       "        [ 9.152346  , 10.507482  ,  4.6044683 , ...,  1.4006258 ,\n",
       "          1.4775894 ,  1.2959621 ],\n",
       "        [ 7.0055523 ,  8.014813  ,  3.8131993 , ...,  1.3951364 ,\n",
       "          1.682604  ,  2.1556501 ]]], dtype=float32)"
      ]
     },
     "execution_count": 25,
     "metadata": {},
     "output_type": "execute_result"
    }
   ],
   "source": [
    "# текущее представление массива\n",
    "tracks"
   ]
  },
  {
   "cell_type": "code",
   "execution_count": 26,
   "id": "ca519b92",
   "metadata": {},
   "outputs": [
    {
     "data": {
      "text/plain": [
       "(2278, 2386, 96)"
      ]
     },
     "execution_count": 26,
     "metadata": {},
     "output_type": "execute_result"
    }
   ],
   "source": [
    "tracks.shape"
   ]
  },
  {
   "cell_type": "code",
   "execution_count": 27,
   "id": "e485e6ac",
   "metadata": {},
   "outputs": [
    {
     "data": {
      "text/plain": [
       "array([0.867584 , 5.635525 , 2.5787995, ..., 1.3951364, 1.682604 ,\n",
       "       2.1556501], dtype=float32)"
      ]
     },
     "execution_count": 27,
     "metadata": {},
     "output_type": "execute_result"
    }
   ],
   "source": [
    "# представление заданного массива в виде одномерного массива\n",
    "tracks_1 = tracks.reshape(2278 * 2386 * 96)\n",
    "tracks_1"
   ]
  },
  {
   "cell_type": "code",
   "execution_count": 28,
   "id": "0a7b1d5a",
   "metadata": {},
   "outputs": [
    {
     "data": {
      "text/plain": [
       "(521789568,)"
      ]
     },
     "execution_count": 28,
     "metadata": {},
     "output_type": "execute_result"
    }
   ],
   "source": [
    "tracks_1.shape"
   ]
  },
  {
   "cell_type": "code",
   "execution_count": 29,
   "id": "7ab06f76",
   "metadata": {
    "scrolled": false
   },
   "outputs": [
    {
     "data": {
      "text/plain": [
       "array([[ 0.867584  ,  5.635525  ,  2.5787995 , ...,  0.8706721 ,\n",
       "         0.68589914,  0.8776981 ],\n",
       "       [ 1.4037471 , 19.115522  ,  5.16586   , ...,  0.9482794 ,\n",
       "         0.94062   ,  0.98139787],\n",
       "       [ 1.8050686 , 15.184977  ,  2.6675718 , ...,  0.7264305 ,\n",
       "         0.77372444,  1.059285  ],\n",
       "       ...,\n",
       "       [ 8.277474  ,  9.192697  ,  3.82261   , ...,  0.6952238 ,\n",
       "         1.0069684 ,  0.9384058 ],\n",
       "       [ 9.152346  , 10.507482  ,  4.6044683 , ...,  1.4006258 ,\n",
       "         1.4775894 ,  1.2959621 ],\n",
       "       [ 7.0055523 ,  8.014813  ,  3.8131993 , ...,  1.3951364 ,\n",
       "         1.682604  ,  2.1556501 ]], dtype=float32)"
      ]
     },
     "execution_count": 29,
     "metadata": {},
     "output_type": "execute_result"
    }
   ],
   "source": [
    "# представление заданного массива в виде двумерного массива\n",
    "tracks_2 = tracks.reshape(5435308, 96)\n",
    "tracks_2"
   ]
  },
  {
   "cell_type": "code",
   "execution_count": 30,
   "id": "b495e4c6",
   "metadata": {},
   "outputs": [
    {
     "data": {
      "text/plain": [
       "(5435308, 96)"
      ]
     },
     "execution_count": 30,
     "metadata": {},
     "output_type": "execute_result"
    }
   ],
   "source": [
    "tracks_2.shape"
   ]
  },
  {
   "cell_type": "code",
   "execution_count": 31,
   "id": "7da5a081",
   "metadata": {
    "scrolled": true
   },
   "outputs": [
    {
     "data": {
      "text/plain": [
       "5435308"
      ]
     },
     "execution_count": 31,
     "metadata": {},
     "output_type": "execute_result"
    }
   ],
   "source": [
    "len(tracks_2)"
   ]
  },
  {
   "cell_type": "code",
   "execution_count": 32,
   "id": "4cc817ff",
   "metadata": {},
   "outputs": [
    {
     "data": {
      "text/plain": [
       "array([0.35012377, 3.43479053])"
      ]
     },
     "execution_count": 32,
     "metadata": {},
     "output_type": "execute_result"
    }
   ],
   "source": [
    "# возвращает значения меньше которых соответственно 5% и 95% всех значений массива\n",
    "np.percentile(tracks_2, q = [5, 95])"
   ]
  },
  {
   "cell_type": "code",
   "execution_count": 33,
   "id": "d9e9d7e4",
   "metadata": {
    "scrolled": false
   },
   "outputs": [],
   "source": [
    "# np.percentile(tracks_2, q = [5, 95], axis = 0)"
   ]
  },
  {
   "cell_type": "code",
   "execution_count": 34,
   "id": "c84ccb27",
   "metadata": {
    "scrolled": true
   },
   "outputs": [],
   "source": [
    "# np.percentile(tracks_2, q = [5, 95], axis = 1)"
   ]
  },
  {
   "cell_type": "code",
   "execution_count": 35,
   "id": "5942de31",
   "metadata": {},
   "outputs": [],
   "source": [
    "# plt.figure(figsize = (16,10))\n",
    "# x = tracks_2\n",
    "# plt.plot(x)\n",
    "# plt.show"
   ]
  },
  {
   "cell_type": "markdown",
   "id": "eda0e290",
   "metadata": {},
   "source": [
    "### Нормализация данных и удаление выбросов"
   ]
  },
  {
   "cell_type": "code",
   "execution_count": 36,
   "id": "fa33078b",
   "metadata": {
    "scrolled": true
   },
   "outputs": [
    {
     "name": "stdout",
     "output_type": "stream",
     "text": [
      "[[0.0694866  0.45136094 0.20654142 ... 0.06973394 0.05493509 0.07029667]\n",
      " [0.06251634 0.85131603 0.23006327 ... 0.04223193 0.04189082 0.04370688]\n",
      " [0.09900888 0.83290327 0.1463176  ... 0.03984506 0.04243916 0.05810229]\n",
      " ...\n",
      " [0.4415205  0.49033844 0.20389801 ... 0.03708324 0.05371169 0.05005457]\n",
      " [0.41699436 0.47873634 0.20978637 ... 0.06381458 0.06732115 0.05904594]\n",
      " [0.3065705  0.35073686 0.1668697  ... 0.06105267 0.07363256 0.09433357]]\n"
     ]
    }
   ],
   "source": [
    "# нормализация данных\n",
    "from sklearn import preprocessing\n",
    "import numpy as np\n",
    "x = preprocessing.normalize(tracks_2)\n",
    "print(x)"
   ]
  },
  {
   "cell_type": "code",
   "execution_count": 37,
   "id": "f2cd50fb",
   "metadata": {},
   "outputs": [],
   "source": [
    "# np.set_printoptions(threshold = sys.maxsize)\n",
    "# print(x)"
   ]
  },
  {
   "cell_type": "code",
   "execution_count": 38,
   "id": "334796b0",
   "metadata": {
    "scrolled": false
   },
   "outputs": [
    {
     "data": {
      "text/plain": [
       "array([[[0.01876068]],\n",
       "\n",
       "       [[0.16884653]]])"
      ]
     },
     "execution_count": 38,
     "metadata": {},
     "output_type": "execute_result"
    }
   ],
   "source": [
    "# возвращает значения меньше которых соответственно 5% и 95% всех нормализованных значений массива\n",
    "np.percentile(x, q = [5, 95], keepdims = True )"
   ]
  },
  {
   "cell_type": "code",
   "execution_count": 39,
   "id": "e6dd5326",
   "metadata": {
    "scrolled": true
   },
   "outputs": [
    {
     "name": "stderr",
     "output_type": "stream",
     "text": [
      "c:\\users\\expli\\appdata\\local\\programs\\python\\python38\\lib\\site-packages\\seaborn\\_decorators.py:36: FutureWarning: Pass the following variable as a keyword arg: x. From version 0.12, the only valid positional argument will be `data`, and passing other arguments without an explicit keyword will result in an error or misinterpretation.\n",
      "  warnings.warn(\n"
     ]
    },
    {
     "data": {
      "text/plain": [
       "<AxesSubplot:>"
      ]
     },
     "execution_count": 39,
     "metadata": {},
     "output_type": "execute_result"
    },
    {
     "data": {
      "image/png": "[encoded data removed]",
      "text/plain": [
       "<Figure size 432x288 with 1 Axes>"
      ]
     },
     "metadata": {
      "needs_background": "light"
     },
     "output_type": "display_data"
    }
   ],
   "source": [
    "# Любая точка данных, которая лежит ниже нижней границы, и над верхней границей рассматривается как выброс\n",
    "import seaborn as sns\n",
    "sns.boxplot(x)"
   ]
  },
  {
   "cell_type": "code",
   "execution_count": 40,
   "id": "50518afa",
   "metadata": {},
   "outputs": [],
   "source": [
    "# заменим в массиве все выбросы нулевыми значениями\n",
    "x1 = x.copy()\n",
    "x1[x1 >= 0.4] = 0"
   ]
  },
  {
   "cell_type": "code",
   "execution_count": 41,
   "id": "4472a4f7",
   "metadata": {},
   "outputs": [
    {
     "data": {
      "text/plain": [
       "521789568"
      ]
     },
     "execution_count": 41,
     "metadata": {},
     "output_type": "execute_result"
    }
   ],
   "source": [
    "len(tracks_1)"
   ]
  },
  {
   "cell_type": "code",
   "execution_count": 42,
   "id": "35409973",
   "metadata": {},
   "outputs": [
    {
     "name": "stdout",
     "output_type": "stream",
     "text": [
      "1295998\n"
     ]
    }
   ],
   "source": [
    "# количество удаленных выбросов в массиве \n",
    "print(len(tracks_1) - np.count_nonzero(x1))"
   ]
  },
  {
   "cell_type": "markdown",
   "id": "aca04952",
   "metadata": {},
   "source": [
    "### Кластеризация данных Модель K-Means"
   ]
  },
  {
   "cell_type": "code",
   "execution_count": 43,
   "id": "7b5fc8bd",
   "metadata": {},
   "outputs": [],
   "source": [
    "# Инициализация модели\n",
    "from sklearn.cluster import KMeans\n",
    "model = KMeans(n_clusters = 8, init = 'k-means++', n_init = 10, max_iter = 300, tol = 0.0001, verbose = 0, random_state = 42,\n",
    "               copy_x = True, algorithm = 'auto')"
   ]
  },
  {
   "cell_type": "code",
   "execution_count": 44,
   "id": "4e15b57a",
   "metadata": {},
   "outputs": [
    {
     "data": {
      "text/plain": [
       "KMeans(random_state=42)"
      ]
     },
     "execution_count": 44,
     "metadata": {},
     "output_type": "execute_result"
    }
   ],
   "source": [
    "# Подгонка модели по данным из представления 2D\n",
    "model.fit(x1)"
   ]
  },
  {
   "cell_type": "code",
   "execution_count": 45,
   "id": "78309715",
   "metadata": {
    "scrolled": true
   },
   "outputs": [
    {
     "data": {
      "text/plain": [
       "array([6, 4, 4, ..., 4, 4, 7])"
      ]
     },
     "execution_count": 45,
     "metadata": {},
     "output_type": "execute_result"
    }
   ],
   "source": [
    "# метка точки (к какому кластеру принадлежит каждый трек)\n",
    "model.labels_"
   ]
  },
  {
   "cell_type": "code",
   "execution_count": 46,
   "id": "241f82c3",
   "metadata": {},
   "outputs": [
    {
     "data": {
      "text/plain": [
       "(5435308,)"
      ]
     },
     "execution_count": 46,
     "metadata": {},
     "output_type": "execute_result"
    }
   ],
   "source": [
    "model.labels_.shape"
   ]
  },
  {
   "cell_type": "code",
   "execution_count": 47,
   "id": "a70918f9",
   "metadata": {
    "scrolled": false
   },
   "outputs": [
    {
     "data": {
      "text/plain": [
       "array([[0.05677005, 0.05828882, 0.05655666, 0.06661506, 0.06366687,\n",
       "        0.06358427, 0.0625995 , 0.07066858, 0.06575006, 0.08190217,\n",
       "        0.08405691, 0.08660458, 0.08881576, 0.09010941, 0.09141244,\n",
       "        0.0930267 , 0.09365719, 0.09462592, 0.09533266, 0.09565352,\n",
       "        0.09615058, 0.09681489, 0.09748381, 0.09774325, 0.09581997,\n",
       "        0.09076622, 0.09740796, 0.09865744, 0.09929119, 0.09950479,\n",
       "        0.09988783, 0.09988935, 0.10005847, 0.10022365, 0.100516  ,\n",
       "        0.10069577, 0.10066272, 0.10101653, 0.1010751 , 0.10119342,\n",
       "        0.10123419, 0.09821343, 0.09688167, 0.09707785, 0.0971739 ,\n",
       "        0.0972051 , 0.09734212, 0.097544  , 0.09756961, 0.097546  ,\n",
       "        0.09752888, 0.09779456, 0.09784965, 0.0973326 , 0.09702066,\n",
       "        0.09721512, 0.09722317, 0.0969937 , 0.09659087, 0.09667382,\n",
       "        0.09687006, 0.09691519, 0.0969322 , 0.09696237, 0.09690851,\n",
       "        0.09684932, 0.09659837, 0.09661178, 0.09673218, 0.09672824,\n",
       "        0.09672293, 0.0966497 , 0.09644143, 0.09647886, 0.09648357,\n",
       "        0.09632048, 0.09635388, 0.09624895, 0.09627242, 0.09627616,\n",
       "        0.09611586, 0.09612079, 0.09620501, 0.09620332, 0.09619459,\n",
       "        0.0962951 , 0.09625813, 0.09620602, 0.09615187, 0.09611395,\n",
       "        0.0962078 , 0.09613202, 0.09619316, 0.09620824, 0.09597626,\n",
       "        0.09574252],\n",
       "       [0.08577487, 0.08112542, 0.08176494, 0.08863104, 0.08427303,\n",
       "        0.08546884, 0.07854376, 0.09176377, 0.20737666, 0.09285313,\n",
       "        0.09093721, 0.09134737, 0.09229793, 0.09216712, 0.09253796,\n",
       "        0.09272511, 0.09323008, 0.09324091, 0.09329022, 0.09353691,\n",
       "        0.0935237 , 0.09356122, 0.09407607, 0.09394369, 0.09282628,\n",
       "        0.09095503, 0.09375758, 0.0941906 , 0.09410448, 0.09455016,\n",
       "        0.09455517, 0.09456208, 0.09469366, 0.09473736, 0.09482716,\n",
       "        0.09461897, 0.09458279, 0.0945492 , 0.09462406, 0.09482878,\n",
       "        0.0949571 , 0.09272701, 0.09161922, 0.09163767, 0.09184512,\n",
       "        0.09162366, 0.09171335, 0.09173653, 0.0919322 , 0.09185764,\n",
       "        0.09180066, 0.09185869, 0.09186   , 0.09150994, 0.09136875,\n",
       "        0.0913677 , 0.09126166, 0.09115113, 0.09089939, 0.09100745,\n",
       "        0.09096102, 0.09088092, 0.09095656, 0.09107129, 0.09111705,\n",
       "        0.09081502, 0.09082734, 0.09077908, 0.09079438, 0.09080076,\n",
       "        0.09083488, 0.09070332, 0.09060965, 0.09065466, 0.09067401,\n",
       "        0.0903531 , 0.0903745 , 0.09045061, 0.09039272, 0.09042896,\n",
       "        0.09041155, 0.09031304, 0.09040844, 0.09040614, 0.09036256,\n",
       "        0.0904743 , 0.09041098, 0.09039877, 0.09025586, 0.09026775,\n",
       "        0.0903514 , 0.09022447, 0.09023654, 0.09030078, 0.09018787,\n",
       "        0.09006684],\n",
       "       [0.11629987, 0.26010585, 0.15097147, 0.12294319, 0.11853518,\n",
       "        0.11435032, 0.10609577, 0.10441174, 0.09945206, 0.09799744,\n",
       "        0.09380945, 0.09144354, 0.08987065, 0.08937235, 0.08947097,\n",
       "        0.08907779, 0.08854403, 0.0883751 , 0.08822022, 0.08804773,\n",
       "        0.08788137, 0.08758705, 0.08748216, 0.08743419, 0.09048806,\n",
       "        0.10425292, 0.08884145, 0.08762319, 0.08689272, 0.08677686,\n",
       "        0.08671962, 0.08661709, 0.08647454, 0.08646736, 0.08628143,\n",
       "        0.08625252, 0.0865157 , 0.08652742, 0.08625674, 0.08641017,\n",
       "        0.08642081, 0.08417367, 0.08306355, 0.08299125, 0.08299156,\n",
       "        0.08302445, 0.08283395, 0.08287077, 0.08287579, 0.08272756,\n",
       "        0.08282626, 0.08285049, 0.08278559, 0.08248699, 0.08213836,\n",
       "        0.0822679 , 0.0821754 , 0.08185129, 0.08164876, 0.08172999,\n",
       "        0.08175313, 0.0816892 , 0.0817469 , 0.0816979 , 0.08161905,\n",
       "        0.08146073, 0.08136248, 0.081368  , 0.08129574, 0.08141708,\n",
       "        0.08151759, 0.08130623, 0.08130731, 0.08134597, 0.08132545,\n",
       "        0.08123571, 0.08110669, 0.08116213, 0.08118644, 0.08109682,\n",
       "        0.0810899 , 0.08111179, 0.08113723, 0.08102202, 0.08100443,\n",
       "        0.08094683, 0.0809703 , 0.08088139, 0.0807227 , 0.08075962,\n",
       "        0.08070478, 0.08070844, 0.08073355, 0.08072444, 0.08094846,\n",
       "        0.08129444],\n",
       "       [0.10454865, 0.10535853, 0.09980218, 0.09422706, 0.10943028,\n",
       "        0.10890931, 0.11687346, 0.11229394, 0.11319031, 0.10115711,\n",
       "        0.0855628 , 0.07487939, 0.06956036, 0.06142466, 0.05158855,\n",
       "        0.03970745, 0.03184925, 0.02772093, 0.02565313, 0.02292869,\n",
       "        0.02061208, 0.01824694, 0.01647989, 0.01528798, 0.01450051,\n",
       "        0.01441561, 0.01350069, 0.01294138, 0.01219232, 0.01170406,\n",
       "        0.011512  , 0.01136032, 0.01112036, 0.01074491, 0.01055113,\n",
       "        0.01047249, 0.01030007, 0.01012381, 0.00998428, 0.00984644,\n",
       "        0.00966766, 0.00939665, 0.0091785 , 0.0089941 , 0.00890176,\n",
       "        0.00878533, 0.0087212 , 0.0086832 , 0.0086322 , 0.00860411,\n",
       "        0.00852931, 0.00850528, 0.00844707, 0.00840963, 0.0083864 ,\n",
       "        0.00834271, 0.00835375, 0.00834116, 0.00826656, 0.00823393,\n",
       "        0.00822648, 0.00824983, 0.00823383, 0.00823265, 0.00822435,\n",
       "        0.008204  , 0.00820149, 0.00820611, 0.00818234, 0.00819943,\n",
       "        0.00819245, 0.00817598, 0.0081845 , 0.00819539, 0.00817965,\n",
       "        0.00814991, 0.00815704, 0.00815146, 0.00814117, 0.00816058,\n",
       "        0.00817157, 0.00816111, 0.00813539, 0.00814747, 0.00813772,\n",
       "        0.00813201, 0.00812814, 0.00812522, 0.00811784, 0.00809802,\n",
       "        0.00809611, 0.00811433, 0.00809795, 0.00811549, 0.00812457,\n",
       "        0.00818797],\n",
       "       [0.08399172, 0.12548682, 0.15596196, 0.14806667, 0.1479078 ,\n",
       "        0.14052899, 0.13613886, 0.12229845, 0.10830916, 0.09425739,\n",
       "        0.08155578, 0.074074  , 0.06896063, 0.06625967, 0.06537008,\n",
       "        0.06295902, 0.06085787, 0.05989534, 0.05923193, 0.0585981 ,\n",
       "        0.05815254, 0.05751457, 0.05698046, 0.05707723, 0.0620167 ,\n",
       "        0.08444223, 0.05859514, 0.0565208 , 0.05540338, 0.05545292,\n",
       "        0.05485999, 0.05479904, 0.05448596, 0.05455488, 0.05424095,\n",
       "        0.05424318, 0.05429915, 0.0540198 , 0.05392763, 0.05395452,\n",
       "        0.05392522, 0.05273179, 0.05209956, 0.05176347, 0.05179987,\n",
       "        0.05189904, 0.05155681, 0.05142888, 0.05152177, 0.05132938,\n",
       "        0.0515664 , 0.05138837, 0.05122045, 0.05122878, 0.0509915 ,\n",
       "        0.0508855 , 0.05080478, 0.05074513, 0.05069479, 0.05062505,\n",
       "        0.05053278, 0.05067113, 0.05056974, 0.0505468 , 0.05054003,\n",
       "        0.05031191, 0.05031579, 0.05044327, 0.05033085, 0.0503607 ,\n",
       "        0.05053566, 0.05031456, 0.05026492, 0.05037649, 0.05027879,\n",
       "        0.0503655 , 0.05012556, 0.05029465, 0.05029954, 0.05026361,\n",
       "        0.05025632, 0.05027623, 0.05015385, 0.05012684, 0.05008682,\n",
       "        0.04999555, 0.050047  , 0.04990584, 0.04984734, 0.04988094,\n",
       "        0.04975408, 0.04981448, 0.04984678, 0.04983846, 0.0501772 ,\n",
       "        0.05071392],\n",
       "       [0.10711472, 0.08624367, 0.11396103, 0.11058291, 0.11968546,\n",
       "        0.12053139, 0.06991057, 0.11587161, 0.07108244, 0.09675829,\n",
       "        0.0944308 , 0.09437132, 0.09501757, 0.09450965, 0.09379526,\n",
       "        0.09378584, 0.09392352, 0.09361631, 0.09369246, 0.09407303,\n",
       "        0.09406819, 0.09417518, 0.09376357, 0.09404665, 0.09356128,\n",
       "        0.09338445, 0.09368894, 0.09387256, 0.09394758, 0.09397744,\n",
       "        0.09419324, 0.09413128, 0.09433252, 0.09410901, 0.09410623,\n",
       "        0.09403614, 0.09427189, 0.09422106, 0.09407107, 0.09418364,\n",
       "        0.09409846, 0.0918202 , 0.0907001 , 0.09089904, 0.09084077,\n",
       "        0.09081653, 0.09081486, 0.09094538, 0.09090675, 0.09102316,\n",
       "        0.0909446 , 0.0909687 , 0.09097095, 0.0905756 , 0.09027485,\n",
       "        0.09030339, 0.09041218, 0.09019216, 0.08993748, 0.09003022,\n",
       "        0.09003946, 0.08999126, 0.09005237, 0.09000257, 0.0900454 ,\n",
       "        0.08998958, 0.08983815, 0.08989724, 0.08981803, 0.08976368,\n",
       "        0.08986366, 0.08980625, 0.08968639, 0.08960883, 0.08970243,\n",
       "        0.08952793, 0.0895088 , 0.08949868, 0.08944376, 0.08945392,\n",
       "        0.08942702, 0.08939864, 0.08946397, 0.08944551, 0.08939099,\n",
       "        0.08941118, 0.08942394, 0.08937088, 0.08931861, 0.08928061,\n",
       "        0.08934479, 0.08930032, 0.08932496, 0.08934072, 0.08924239,\n",
       "        0.08925695],\n",
       "       [0.08822801, 0.08427735, 0.0876288 , 0.09099054, 0.0906086 ,\n",
       "        0.09100916, 0.21422727, 0.0940859 , 0.08261532, 0.09261508,\n",
       "        0.09096562, 0.09107744, 0.09117746, 0.09130733, 0.09180412,\n",
       "        0.09201666, 0.09213352, 0.09250441, 0.09259149, 0.0928842 ,\n",
       "        0.09244955, 0.09287775, 0.09299203, 0.09306552, 0.09302077,\n",
       "        0.09378368, 0.0930661 , 0.09315   , 0.09344822, 0.09355829,\n",
       "        0.09323374, 0.09350087, 0.09360656, 0.09381037, 0.09376194,\n",
       "        0.09397439, 0.09381362, 0.0937449 , 0.093977  , 0.09394573,\n",
       "        0.09406629, 0.0917416 , 0.09051748, 0.09052978, 0.09069631,\n",
       "        0.09068036, 0.09074021, 0.09081657, 0.09090371, 0.09083633,\n",
       "        0.09086549, 0.09098214, 0.09080648, 0.09046219, 0.09010021,\n",
       "        0.09013339, 0.09040142, 0.09019031, 0.08982224, 0.08984669,\n",
       "        0.08994277, 0.08996228, 0.09000055, 0.09005668, 0.09000318,\n",
       "        0.0898732 , 0.08971964, 0.08969793, 0.089646  , 0.08970577,\n",
       "        0.08968561, 0.08969851, 0.08963262, 0.08963054, 0.0895747 ,\n",
       "        0.08943404, 0.08937988, 0.08927213, 0.08931277, 0.08936561,\n",
       "        0.08925916, 0.08930618, 0.08936141, 0.08924114, 0.08935042,\n",
       "        0.0893416 , 0.08939315, 0.08935225, 0.089166  , 0.08922826,\n",
       "        0.08922379, 0.08911838, 0.0891665 , 0.08925704, 0.0892617 ,\n",
       "        0.08918671],\n",
       "       [0.28450844, 0.15920374, 0.17543948, 0.14321543, 0.1395064 ,\n",
       "        0.13280581, 0.12470874, 0.11654772, 0.11096393, 0.10223728,\n",
       "        0.09556976, 0.0921325 , 0.08889333, 0.08728509, 0.08699208,\n",
       "        0.08604267, 0.08515832, 0.08487972, 0.08449224, 0.08415218,\n",
       "        0.08394327, 0.08334365, 0.08309536, 0.08306296, 0.08739852,\n",
       "        0.10743055, 0.0845338 , 0.08280665, 0.08169087, 0.08170658,\n",
       "        0.08121662, 0.08102103, 0.08100612, 0.08089529, 0.08080424,\n",
       "        0.08092644, 0.08085521, 0.08050387, 0.08054126, 0.08034214,\n",
       "        0.08072176, 0.07836206, 0.07738127, 0.07708225, 0.0771145 ,\n",
       "        0.07740961, 0.07703991, 0.07692079, 0.07682399, 0.07674147,\n",
       "        0.07689817, 0.07689925, 0.0767899 , 0.0764292 , 0.07615276,\n",
       "        0.07618976, 0.0760409 , 0.07584163, 0.07572377, 0.07568861,\n",
       "        0.07573979, 0.07570241, 0.07562566, 0.0755761 , 0.07562726,\n",
       "        0.07535201, 0.07541519, 0.07546599, 0.07526965, 0.07526083,\n",
       "        0.07550456, 0.07523668, 0.07522506, 0.07521276, 0.07522266,\n",
       "        0.07525659, 0.07504975, 0.07517516, 0.07512379, 0.07506675,\n",
       "        0.07501414, 0.07508469, 0.07499435, 0.07495788, 0.07488375,\n",
       "        0.074731  , 0.07481836, 0.07464679, 0.07454476, 0.07452069,\n",
       "        0.07446877, 0.07448519, 0.07458462, 0.07460951, 0.07487001,\n",
       "        0.07528131]], dtype=float32)"
      ]
     },
     "execution_count": 47,
     "metadata": {},
     "output_type": "execute_result"
    }
   ],
   "source": [
    "# координаты центров кластеров\n",
    "model.cluster_centers_"
   ]
  },
  {
   "cell_type": "code",
   "execution_count": 48,
   "id": "a86a83c6",
   "metadata": {},
   "outputs": [
    {
     "data": {
      "text/plain": [
       "(8, 96)"
      ]
     },
     "execution_count": 48,
     "metadata": {},
     "output_type": "execute_result"
    }
   ],
   "source": [
    "model.cluster_centers_.shape"
   ]
  },
  {
   "cell_type": "code",
   "execution_count": 49,
   "id": "8eff28b2",
   "metadata": {},
   "outputs": [
    {
     "data": {
      "text/plain": [
       "<function matplotlib.pyplot.show(close=None, block=None)>"
      ]
     },
     "execution_count": 49,
     "metadata": {},
     "output_type": "execute_result"
    },
    {
     "data": {
      "image/png": "[encoded data removed]",
      "text/plain": [
       "<Figure size 432x288 with 1 Axes>"
      ]
     },
     "metadata": {
      "needs_background": "light"
     },
     "output_type": "display_data"
    }
   ],
   "source": [
    "# определение количества кластеров\n",
    "K = range(1, 9)\n",
    "models = [KMeans(n_clusters = k, random_state = 42).fit(x1) for k in K]\n",
    "dist = [model.inertia_ for model in models]\n",
    "\n",
    "plt.plot(K, dist, marker = 'o')\n",
    "plt.xlabel('K')\n",
    "plt.ylabel('Sum of distances')\n",
    "plt.title('The elbow method showing the optimal K')\n",
    "plt.show"
   ]
  },
  {
   "cell_type": "code",
   "execution_count": 50,
   "id": "133f9d37",
   "metadata": {
    "scrolled": true
   },
   "outputs": [],
   "source": [
    "# исходя из графика, принимаем количество кластеров"
   ]
  },
  {
   "cell_type": "code",
   "execution_count": 55,
   "id": "2dbdcd24",
   "metadata": {
    "scrolled": true
   },
   "outputs": [
    {
     "data": {
      "text/plain": [
       "array([2, 2, 2, ..., 7, 7, 2])"
      ]
     },
     "execution_count": 55,
     "metadata": {},
     "output_type": "execute_result"
    }
   ],
   "source": [
    "# предсказание по новым трекам, метод predict\n",
    "new_items = tracks_2*0.15\n",
    "model.predict(new_items)"
   ]
  },
  {
   "cell_type": "code",
   "execution_count": null,
   "id": "a81f7d39",
   "metadata": {
    "id": "a81f7d39"
   },
   "outputs": [],
   "source": []
  }
 ],
 "metadata": {
  "accelerator": "GPU",
  "colab": {
   "collapsed_sections": [],
   "name": "tech-task1.ipynb",
   "provenance": []
  },
  "kernelspec": {
   "display_name": "Python 3",
   "language": "python",
   "name": "python3"
  },
  "language_info": {
   "codemirror_mode": {
    "name": "ipython",
    "version": 3
   },
   "file_extension": ".py",
   "mimetype": "text/x-python",
   "name": "python",
   "nbconvert_exporter": "python",
   "pygments_lexer": "ipython3",
   "version": "3.8.6rc1"
  }
 },
 "nbformat": 4,
 "nbformat_minor": 5
}
